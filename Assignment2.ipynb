{
 "cells": [
  {
   "cell_type": "markdown",
   "id": "brilliant-fundamentals",
   "metadata": {},
   "source": [
    "# Data Structures in Python"
   ]
  },
  {
   "cell_type": "markdown",
   "id": "cleared-spectacular",
   "metadata": {},
   "source": [
    "![\"Data sTructures\"](https://www.edureka.co/blog/wp-content/uploads/2019/10/TreeStructure-Data-Structures-in-Python-Edureka1.png \"Data Structures\")"
   ]
  },
  {
   "cell_type": "markdown",
   "id": "centered-kuwait",
   "metadata": {},
   "source": [
    "## Comprehensions"
   ]
  },
  {
   "cell_type": "markdown",
   "id": "forbidden-round",
   "metadata": {},
   "source": [
    "Comprehensions can be used to construct a data structure in a minimal amount of lines as possible. Comprehensions allow us to use notations for lists, sets, and dictionaries to construct these structures by patterns rather than by appending elements into the data structures one by one."
   ]
  },
  {
   "cell_type": "markdown",
   "id": "indoor-nightlife",
   "metadata": {},
   "source": [
    "### List Comprehensions"
   ]
  },
  {
   "cell_type": "markdown",
   "id": "bronze-disabled",
   "metadata": {},
   "source": [
    "One way of constructing a list in Python is to write out all the known elements as follows:"
   ]
  },
  {
   "cell_type": "code",
   "execution_count": 83,
   "id": "integrated-sigma",
   "metadata": {},
   "outputs": [],
   "source": [
    "list1 = [0, 1, 2, 3, 4, 5, 6, 7, 8, 9]"
   ]
  },
  {
   "cell_type": "code",
   "execution_count": 84,
   "id": "owned-bibliography",
   "metadata": {},
   "outputs": [
    {
     "data": {
      "text/plain": [
       "[0, 1, 2, 3, 4, 5, 6, 7, 8, 9]"
      ]
     },
     "execution_count": 84,
     "metadata": {},
     "output_type": "execute_result"
    }
   ],
   "source": [
    "list1"
   ]
  },
  {
   "cell_type": "markdown",
   "id": "institutional-biotechnology",
   "metadata": {},
   "source": [
    "However, the above approach isn't the most efficient way of constructing large lists. We can instead use a for loop to append all the numbers for that range as follows:"
   ]
  },
  {
   "cell_type": "code",
   "execution_count": 85,
   "id": "silver-moment",
   "metadata": {},
   "outputs": [],
   "source": [
    "list1_loop = []\n",
    "for number in range(0, 10):\n",
    "    list1_loop.append(number)"
   ]
  },
  {
   "cell_type": "code",
   "execution_count": 86,
   "id": "figured-serbia",
   "metadata": {},
   "outputs": [
    {
     "data": {
      "text/plain": [
       "[0, 1, 2, 3, 4, 5, 6, 7, 8, 9]"
      ]
     },
     "execution_count": 86,
     "metadata": {},
     "output_type": "execute_result"
    }
   ],
   "source": [
    "list1_loop"
   ]
  },
  {
   "cell_type": "markdown",
   "id": "caroline-sequence",
   "metadata": {},
   "source": [
    "However, there is a more concise way of creating the list without having to utilize a list. We can describe how the data structure should look if there is a pattern among the elements in the data structure. It is simple for the above list since it is a list that contains all the numbers of the range 0 (inclusively) to 10 (exclusively)."
   ]
  },
  {
   "cell_type": "code",
   "execution_count": 87,
   "id": "conceptual-medium",
   "metadata": {},
   "outputs": [],
   "source": [
    "list1_comprehension = [number for number in range(0, 10)]"
   ]
  },
  {
   "cell_type": "code",
   "execution_count": 88,
   "id": "explicit-negotiation",
   "metadata": {},
   "outputs": [
    {
     "data": {
      "text/plain": [
       "[0, 1, 2, 3, 4, 5, 6, 7, 8, 9]"
      ]
     },
     "execution_count": 88,
     "metadata": {},
     "output_type": "execute_result"
    }
   ],
   "source": [
    "list1_comprehension"
   ]
  },
  {
   "cell_type": "markdown",
   "id": "hazardous-medium",
   "metadata": {},
   "source": [
    "Note that we receive the same list."
   ]
  },
  {
   "cell_type": "markdown",
   "id": "accompanied-conjunction",
   "metadata": {},
   "source": [
    "We can further map different elements in that range to other numbers. For example, we may wish to triple all the numbers in the list that we just created. It is possible to do that using comprehensions as we have identified \"tripling all the numbers\" as the pattern in the construction of this list."
   ]
  },
  {
   "cell_type": "code",
   "execution_count": 89,
   "id": "fleet-maintenance",
   "metadata": {},
   "outputs": [],
   "source": [
    "list1_comprehension_3 = [number*3 for number in range(0, 10)]"
   ]
  },
  {
   "cell_type": "code",
   "execution_count": 90,
   "id": "rocky-syracuse",
   "metadata": {},
   "outputs": [
    {
     "data": {
      "text/plain": [
       "[0, 3, 6, 9, 12, 15, 18, 21, 24, 27]"
      ]
     },
     "execution_count": 90,
     "metadata": {},
     "output_type": "execute_result"
    }
   ],
   "source": [
    "list1_comprehension_3"
   ]
  },
  {
   "cell_type": "markdown",
   "id": "spiritual-courtesy",
   "metadata": {},
   "source": [
    "As shown above, we have constructed a data structure that triples numbers 0 to 10 (exclusively)."
   ]
  },
  {
   "cell_type": "markdown",
   "id": "applied-phrase",
   "metadata": {},
   "source": [
    "We can also filter the number of elements that is allowed by specifying an if conditional at the end of the comprehension."
   ]
  },
  {
   "cell_type": "code",
   "execution_count": 91,
   "id": "stunning-bacteria",
   "metadata": {},
   "outputs": [],
   "source": [
    "list1_comprehension_3_multiple = [number for number in range(0, 10) if number % 3 == 0]"
   ]
  },
  {
   "cell_type": "code",
   "execution_count": 92,
   "id": "approved-russell",
   "metadata": {},
   "outputs": [
    {
     "data": {
      "text/plain": [
       "[0, 3, 6, 9]"
      ]
     },
     "execution_count": 92,
     "metadata": {},
     "output_type": "execute_result"
    }
   ],
   "source": [
    "list1_comprehension_3_multiple"
   ]
  },
  {
   "cell_type": "markdown",
   "id": "champion-couple",
   "metadata": {},
   "source": [
    "As shown above, we have constructed a list, by comprehension, where only the multiples of three are present."
   ]
  },
  {
   "cell_type": "markdown",
   "id": "timely-shark",
   "metadata": {},
   "source": [
    "This can be combined with an if conditional statement as shown below:"
   ]
  },
  {
   "cell_type": "code",
   "execution_count": 93,
   "id": "saving-heading",
   "metadata": {},
   "outputs": [],
   "source": [
    "list1_comprehension_combined = [number*3 for number in range(0, 10) if number % 3 == 0]"
   ]
  },
  {
   "cell_type": "code",
   "execution_count": 94,
   "id": "champion-grain",
   "metadata": {},
   "outputs": [
    {
     "data": {
      "text/plain": [
       "[0, 9, 18, 27]"
      ]
     },
     "execution_count": 94,
     "metadata": {},
     "output_type": "execute_result"
    }
   ],
   "source": [
    "list1_comprehension_combined"
   ]
  },
  {
   "cell_type": "markdown",
   "id": "external-sellers",
   "metadata": {},
   "source": [
    "### Set Comprehensions"
   ]
  },
  {
   "cell_type": "markdown",
   "id": "disciplinary-inside",
   "metadata": {},
   "source": [
    "Just as lists with patterns among the elements can be constructed with comprehensions, we can do the same in constructing sets."
   ]
  },
  {
   "cell_type": "code",
   "execution_count": 95,
   "id": "about-summer",
   "metadata": {},
   "outputs": [],
   "source": [
    "set1_comprehension = {number for number in range(0, 10)}"
   ]
  },
  {
   "cell_type": "code",
   "execution_count": 96,
   "id": "atmospheric-champion",
   "metadata": {},
   "outputs": [
    {
     "data": {
      "text/plain": [
       "{0, 1, 2, 3, 4, 5, 6, 7, 8, 9}"
      ]
     },
     "execution_count": 96,
     "metadata": {},
     "output_type": "execute_result"
    }
   ],
   "source": [
    "set1_comprehension"
   ]
  },
  {
   "cell_type": "markdown",
   "id": "particular-classics",
   "metadata": {},
   "source": [
    "The difference in this construction is that curly brackets are used instead of straight line brackets."
   ]
  },
  {
   "cell_type": "markdown",
   "id": "silver-registrar",
   "metadata": {},
   "source": [
    "We know that this is a set since it will not contain any repeat elements, even though we attempt to add identical elements:"
   ]
  },
  {
   "cell_type": "code",
   "execution_count": 97,
   "id": "acceptable-encoding",
   "metadata": {},
   "outputs": [],
   "source": [
    "set1_comprehension_repeat = {1 for number in range(0, 10)}"
   ]
  },
  {
   "cell_type": "code",
   "execution_count": 98,
   "id": "turkish-hotel",
   "metadata": {},
   "outputs": [
    {
     "data": {
      "text/plain": [
       "{1}"
      ]
     },
     "execution_count": 98,
     "metadata": {},
     "output_type": "execute_result"
    }
   ],
   "source": [
    "set1_comprehension_repeat"
   ]
  },
  {
   "cell_type": "markdown",
   "id": "wicked-workstation",
   "metadata": {},
   "source": [
    "However, lists can contain identical elements:"
   ]
  },
  {
   "cell_type": "code",
   "execution_count": 99,
   "id": "massive-recipe",
   "metadata": {},
   "outputs": [],
   "source": [
    "list1_comprehension_repeat = [1 for number in range(0, 10)]"
   ]
  },
  {
   "cell_type": "code",
   "execution_count": 100,
   "id": "color-plastic",
   "metadata": {},
   "outputs": [
    {
     "data": {
      "text/plain": [
       "[1, 1, 1, 1, 1, 1, 1, 1, 1, 1]"
      ]
     },
     "execution_count": 100,
     "metadata": {},
     "output_type": "execute_result"
    }
   ],
   "source": [
    "list1_comprehension_repeat"
   ]
  },
  {
   "cell_type": "markdown",
   "id": "inside-numbers",
   "metadata": {},
   "source": [
    "We can also apply operations to the elements as we did in list comprehensions, shown below:"
   ]
  },
  {
   "cell_type": "code",
   "execution_count": 101,
   "id": "grave-science",
   "metadata": {},
   "outputs": [],
   "source": [
    "set1_comprehension_multiple_5 = {number*5 for number in range(0, 10)}"
   ]
  },
  {
   "cell_type": "code",
   "execution_count": 102,
   "id": "honey-morgan",
   "metadata": {},
   "outputs": [
    {
     "data": {
      "text/plain": [
       "{0, 5, 10, 15, 20, 25, 30, 35, 40, 45}"
      ]
     },
     "execution_count": 102,
     "metadata": {},
     "output_type": "execute_result"
    }
   ],
   "source": [
    "set1_comprehension_multiple_5"
   ]
  },
  {
   "cell_type": "markdown",
   "id": "instructional-nightmare",
   "metadata": {},
   "source": [
    "And we can further filter elements from the set by writing a conditional statement:"
   ]
  },
  {
   "cell_type": "code",
   "execution_count": 103,
   "id": "trying-slide",
   "metadata": {},
   "outputs": [],
   "source": [
    "set1_comprehension_multiple_5_odd = {number*5 for number in range(0, 10) if number % 2 != 0}"
   ]
  },
  {
   "cell_type": "code",
   "execution_count": 104,
   "id": "registered-dining",
   "metadata": {},
   "outputs": [
    {
     "data": {
      "text/plain": [
       "{5, 15, 25, 35, 45}"
      ]
     },
     "execution_count": 104,
     "metadata": {},
     "output_type": "execute_result"
    }
   ],
   "source": [
    "set1_comprehension_multiple_5_odd"
   ]
  },
  {
   "cell_type": "markdown",
   "id": "flying-flush",
   "metadata": {},
   "source": [
    "The above example shows a set that only contains multiples of 5 that are odd where the product is a result of multiple in the 0-10 range."
   ]
  },
  {
   "cell_type": "markdown",
   "id": "moral-ticket",
   "metadata": {},
   "source": [
    "### Dictionary Comprehensions"
   ]
  },
  {
   "cell_type": "markdown",
   "id": "nonprofit-programming",
   "metadata": {},
   "source": [
    "We can readily construct dictionary (key, value pair) data by using similar comprehension syntax as we did with lists and sets."
   ]
  },
  {
   "cell_type": "code",
   "execution_count": 105,
   "id": "hearing-necessity",
   "metadata": {},
   "outputs": [],
   "source": [
    "dict1_comprehension = {number:number for number in range(0, 10)}"
   ]
  },
  {
   "cell_type": "code",
   "execution_count": 106,
   "id": "independent-premises",
   "metadata": {},
   "outputs": [
    {
     "data": {
      "text/plain": [
       "{0: 0, 1: 1, 2: 2, 3: 3, 4: 4, 5: 5, 6: 6, 7: 7, 8: 8, 9: 9}"
      ]
     },
     "execution_count": 106,
     "metadata": {},
     "output_type": "execute_result"
    }
   ],
   "source": [
    "dict1_comprehension"
   ]
  },
  {
   "cell_type": "markdown",
   "id": "ordered-evaluation",
   "metadata": {},
   "source": [
    "We have created a dictionary in a similar way to how we have created a set. This dictionary specifies a key and value rather than just a value at the start of the comprehension."
   ]
  },
  {
   "cell_type": "markdown",
   "id": "asian-supply",
   "metadata": {},
   "source": [
    "We can also operate on either the key or value:"
   ]
  },
  {
   "cell_type": "code",
   "execution_count": 107,
   "id": "bored-canvas",
   "metadata": {},
   "outputs": [],
   "source": [
    "dict1_comprehension_operated = {number+10:number/3 for number in range(0, 10)}"
   ]
  },
  {
   "cell_type": "code",
   "execution_count": 108,
   "id": "lovely-dividend",
   "metadata": {},
   "outputs": [
    {
     "data": {
      "text/plain": [
       "{10: 0.0,\n",
       " 11: 0.3333333333333333,\n",
       " 12: 0.6666666666666666,\n",
       " 13: 1.0,\n",
       " 14: 1.3333333333333333,\n",
       " 15: 1.6666666666666667,\n",
       " 16: 2.0,\n",
       " 17: 2.3333333333333335,\n",
       " 18: 2.6666666666666665,\n",
       " 19: 3.0}"
      ]
     },
     "execution_count": 108,
     "metadata": {},
     "output_type": "execute_result"
    }
   ],
   "source": [
    "dict1_comprehension_operated"
   ]
  },
  {
   "cell_type": "markdown",
   "id": "dynamic-savings",
   "metadata": {},
   "source": [
    "Or we can filter out values as shown below:"
   ]
  },
  {
   "cell_type": "code",
   "execution_count": 109,
   "id": "clean-punch",
   "metadata": {},
   "outputs": [],
   "source": [
    "dict1_comprehension_combined = {number+10:number/3 for number in range(0, 10) if number/3 % 1 == 0}"
   ]
  },
  {
   "cell_type": "code",
   "execution_count": 110,
   "id": "general-maldives",
   "metadata": {},
   "outputs": [
    {
     "data": {
      "text/plain": [
       "{10: 0.0, 13: 1.0, 16: 2.0, 19: 3.0}"
      ]
     },
     "execution_count": 110,
     "metadata": {},
     "output_type": "execute_result"
    }
   ],
   "source": [
    "dict1_comprehension_combined"
   ]
  },
  {
   "cell_type": "markdown",
   "id": "gothic-drilling",
   "metadata": {},
   "source": [
    "### Additional Resources"
   ]
  },
  {
   "cell_type": "markdown",
   "id": "greek-burden",
   "metadata": {},
   "source": [
    " - https://medium.com/dev-genius/list-dictionary-and-set-comprehensions-in-python-103c2a20191b\n",
    " - https://python-3-patterns-idioms-test.readthedocs.io/en/latest/Comprehensions.html"
   ]
  }
 ],
 "metadata": {
  "kernelspec": {
   "display_name": "Python 3",
   "language": "python",
   "name": "python3"
  },
  "language_info": {
   "codemirror_mode": {
    "name": "ipython",
    "version": 3
   },
   "file_extension": ".py",
   "mimetype": "text/x-python",
   "name": "python",
   "nbconvert_exporter": "python",
   "pygments_lexer": "ipython3",
   "version": "3.9.1"
  }
 },
 "nbformat": 4,
 "nbformat_minor": 5
}
